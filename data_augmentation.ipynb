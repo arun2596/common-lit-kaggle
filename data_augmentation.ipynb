{
 "cells": [
  {
   "cell_type": "code",
   "execution_count": 1,
   "metadata": {},
   "outputs": [],
   "source": [
    "import pandas as pd"
   ]
  },
  {
   "cell_type": "code",
   "execution_count": 2,
   "metadata": {},
   "outputs": [
    {
     "data": {
      "text/html": [
       "<div>\n",
       "<style scoped>\n",
       "    .dataframe tbody tr th:only-of-type {\n",
       "        vertical-align: middle;\n",
       "    }\n",
       "\n",
       "    .dataframe tbody tr th {\n",
       "        vertical-align: top;\n",
       "    }\n",
       "\n",
       "    .dataframe thead th {\n",
       "        text-align: right;\n",
       "    }\n",
       "</style>\n",
       "<table border=\"1\" class=\"dataframe\">\n",
       "  <thead>\n",
       "    <tr style=\"text-align: right;\">\n",
       "      <th></th>\n",
       "      <th>id</th>\n",
       "      <th>url_legal</th>\n",
       "      <th>license</th>\n",
       "      <th>excerpt</th>\n",
       "      <th>target</th>\n",
       "      <th>standard_error</th>\n",
       "      <th>source</th>\n",
       "    </tr>\n",
       "  </thead>\n",
       "  <tbody>\n",
       "    <tr>\n",
       "      <th>0</th>\n",
       "      <td>c12129c31</td>\n",
       "      <td>NaN</td>\n",
       "      <td>NaN</td>\n",
       "      <td>When the young people returned to the ballroom...</td>\n",
       "      <td>-0.340259</td>\n",
       "      <td>0.464009</td>\n",
       "      <td>raw</td>\n",
       "    </tr>\n",
       "    <tr>\n",
       "      <th>1</th>\n",
       "      <td>85aa80a4c</td>\n",
       "      <td>NaN</td>\n",
       "      <td>NaN</td>\n",
       "      <td>All through dinner time, Mrs. Fayre was somewh...</td>\n",
       "      <td>-0.315372</td>\n",
       "      <td>0.480805</td>\n",
       "      <td>raw</td>\n",
       "    </tr>\n",
       "    <tr>\n",
       "      <th>2</th>\n",
       "      <td>b69ac6792</td>\n",
       "      <td>NaN</td>\n",
       "      <td>NaN</td>\n",
       "      <td>As Roger had predicted, the snow departed as q...</td>\n",
       "      <td>-0.580118</td>\n",
       "      <td>0.476676</td>\n",
       "      <td>raw</td>\n",
       "    </tr>\n",
       "    <tr>\n",
       "      <th>3</th>\n",
       "      <td>dd1000b26</td>\n",
       "      <td>NaN</td>\n",
       "      <td>NaN</td>\n",
       "      <td>And outside before the palace a great garden w...</td>\n",
       "      <td>-1.054013</td>\n",
       "      <td>0.450007</td>\n",
       "      <td>raw</td>\n",
       "    </tr>\n",
       "    <tr>\n",
       "      <th>4</th>\n",
       "      <td>37c1b32fb</td>\n",
       "      <td>NaN</td>\n",
       "      <td>NaN</td>\n",
       "      <td>Once upon a time there were Three Bears who li...</td>\n",
       "      <td>0.247197</td>\n",
       "      <td>0.510845</td>\n",
       "      <td>raw</td>\n",
       "    </tr>\n",
       "    <tr>\n",
       "      <th>...</th>\n",
       "      <td>...</td>\n",
       "      <td>...</td>\n",
       "      <td>...</td>\n",
       "      <td>...</td>\n",
       "      <td>...</td>\n",
       "      <td>...</td>\n",
       "      <td>...</td>\n",
       "    </tr>\n",
       "    <tr>\n",
       "      <th>2829</th>\n",
       "      <td>25ca8f498</td>\n",
       "      <td>https://sites.ehe.osu.edu/beyondpenguins/files...</td>\n",
       "      <td>CC BY-SA 3.0</td>\n",
       "      <td>When you think of dinosaurs and where they liv...</td>\n",
       "      <td>1.711390</td>\n",
       "      <td>0.646900</td>\n",
       "      <td>raw</td>\n",
       "    </tr>\n",
       "    <tr>\n",
       "      <th>2830</th>\n",
       "      <td>2c26db523</td>\n",
       "      <td>https://en.wikibooks.org/wiki/Wikijunior:The_E...</td>\n",
       "      <td>CC BY-SA 3.0</td>\n",
       "      <td>So what is a solid? Solids are usually hard be...</td>\n",
       "      <td>0.189476</td>\n",
       "      <td>0.535648</td>\n",
       "      <td>raw</td>\n",
       "    </tr>\n",
       "    <tr>\n",
       "      <th>2831</th>\n",
       "      <td>cd19e2350</td>\n",
       "      <td>https://en.wikibooks.org/wiki/Wikijunior:The_E...</td>\n",
       "      <td>CC BY-SA 3.0</td>\n",
       "      <td>The second state of matter we will discuss is ...</td>\n",
       "      <td>0.255209</td>\n",
       "      <td>0.483866</td>\n",
       "      <td>raw</td>\n",
       "    </tr>\n",
       "    <tr>\n",
       "      <th>2832</th>\n",
       "      <td>15e2e9e7a</td>\n",
       "      <td>https://en.wikibooks.org/wiki/Geometry_for_Ele...</td>\n",
       "      <td>CC BY-SA 3.0</td>\n",
       "      <td>Solids are shapes that you can actually touch....</td>\n",
       "      <td>-0.215279</td>\n",
       "      <td>0.514128</td>\n",
       "      <td>raw</td>\n",
       "    </tr>\n",
       "    <tr>\n",
       "      <th>2833</th>\n",
       "      <td>5b990ba77</td>\n",
       "      <td>https://en.wikibooks.org/wiki/Wikijunior:Biolo...</td>\n",
       "      <td>CC BY-SA 3.0</td>\n",
       "      <td>Animals are made of many cells. They eat thing...</td>\n",
       "      <td>0.300779</td>\n",
       "      <td>0.512379</td>\n",
       "      <td>raw</td>\n",
       "    </tr>\n",
       "  </tbody>\n",
       "</table>\n",
       "<p>2834 rows × 7 columns</p>\n",
       "</div>"
      ],
      "text/plain": [
       "             id                                          url_legal  \\\n",
       "0     c12129c31                                                NaN   \n",
       "1     85aa80a4c                                                NaN   \n",
       "2     b69ac6792                                                NaN   \n",
       "3     dd1000b26                                                NaN   \n",
       "4     37c1b32fb                                                NaN   \n",
       "...         ...                                                ...   \n",
       "2829  25ca8f498  https://sites.ehe.osu.edu/beyondpenguins/files...   \n",
       "2830  2c26db523  https://en.wikibooks.org/wiki/Wikijunior:The_E...   \n",
       "2831  cd19e2350  https://en.wikibooks.org/wiki/Wikijunior:The_E...   \n",
       "2832  15e2e9e7a  https://en.wikibooks.org/wiki/Geometry_for_Ele...   \n",
       "2833  5b990ba77  https://en.wikibooks.org/wiki/Wikijunior:Biolo...   \n",
       "\n",
       "           license                                            excerpt  \\\n",
       "0              NaN  When the young people returned to the ballroom...   \n",
       "1              NaN  All through dinner time, Mrs. Fayre was somewh...   \n",
       "2              NaN  As Roger had predicted, the snow departed as q...   \n",
       "3              NaN  And outside before the palace a great garden w...   \n",
       "4              NaN  Once upon a time there were Three Bears who li...   \n",
       "...            ...                                                ...   \n",
       "2829  CC BY-SA 3.0  When you think of dinosaurs and where they liv...   \n",
       "2830  CC BY-SA 3.0  So what is a solid? Solids are usually hard be...   \n",
       "2831  CC BY-SA 3.0  The second state of matter we will discuss is ...   \n",
       "2832  CC BY-SA 3.0  Solids are shapes that you can actually touch....   \n",
       "2833  CC BY-SA 3.0  Animals are made of many cells. They eat thing...   \n",
       "\n",
       "        target  standard_error source  \n",
       "0    -0.340259        0.464009    raw  \n",
       "1    -0.315372        0.480805    raw  \n",
       "2    -0.580118        0.476676    raw  \n",
       "3    -1.054013        0.450007    raw  \n",
       "4     0.247197        0.510845    raw  \n",
       "...        ...             ...    ...  \n",
       "2829  1.711390        0.646900    raw  \n",
       "2830  0.189476        0.535648    raw  \n",
       "2831  0.255209        0.483866    raw  \n",
       "2832 -0.215279        0.514128    raw  \n",
       "2833  0.300779        0.512379    raw  \n",
       "\n",
       "[2834 rows x 7 columns]"
      ]
     },
     "execution_count": 2,
     "metadata": {},
     "output_type": "execute_result"
    }
   ],
   "source": [
    "train_data = pd.read_csv('./data/raw/train.csv')\n",
    "train_data['source'] = 'raw'\n",
    "train_data"
   ]
  },
  {
   "cell_type": "markdown",
   "metadata": {},
   "source": [
    "# EDA"
   ]
  },
  {
   "cell_type": "code",
   "execution_count": 3,
   "metadata": {},
   "outputs": [
    {
     "data": {
      "text/plain": [
       "<AxesSubplot:>"
      ]
     },
     "execution_count": 3,
     "metadata": {},
     "output_type": "execute_result"
    },
    {
     "data": {
      "image/png": "[encoded data removed]",
      "text/plain": [
       "<Figure size 432x288 with 1 Axes>"
      ]
     },
     "metadata": {
      "needs_background": "light"
     },
     "output_type": "display_data"
    }
   ],
   "source": [
    "train_data['target'].hist()"
   ]
  },
  {
   "cell_type": "code",
   "execution_count": 4,
   "metadata": {},
   "outputs": [
    {
     "data": {
      "text/plain": [
       "<AxesSubplot:>"
      ]
     },
     "execution_count": 4,
     "metadata": {},
     "output_type": "execute_result"
    },
    {
     "data": {
      "image/png": "[encoded data removed]",
      "text/plain": [
       "<Figure size 432x288 with 1 Axes>"
      ]
     },
     "metadata": {
      "needs_background": "light"
     },
     "output_type": "display_data"
    }
   ],
   "source": [
    "# just get a sense of token cnt. not accurate\n",
    "train_data['token_cnt'] = train_data['excerpt'].apply(lambda x: len(x.replace('\\n', ' ').split()))\n",
    "train_data['token_cnt'].hist()"
   ]
  },
  {
   "cell_type": "markdown",
   "metadata": {},
   "source": [
    "# Readability Score"
   ]
  },
  {
   "cell_type": "code",
   "execution_count": 5,
   "metadata": {},
   "outputs": [
    {
     "data": {
      "text/plain": [
       "<AxesSubplot:>"
      ]
     },
     "execution_count": 5,
     "metadata": {},
     "output_type": "execute_result"
    },
    {
     "data": {
      "image/png": "[encoded data removed]",
      "text/plain": [
       "<Figure size 432x288 with 1 Axes>"
      ]
     },
     "metadata": {
      "needs_background": "light"
     },
     "output_type": "display_data"
    }
   ],
   "source": [
    "import textstat\n",
    "train_data['fre_score'] = train_data['excerpt'].apply(lambda x: textstat.flesch_reading_ease((x)))\n",
    "train_data['fre_score'].hist()"
   ]
  },
  {
   "cell_type": "code",
   "execution_count": 6,
   "metadata": {},
   "outputs": [
    {
     "data": {
      "text/plain": [
       "<AxesSubplot:>"
      ]
     },
     "execution_count": 6,
     "metadata": {},
     "output_type": "execute_result"
    },
    {
     "data": {
      "image/png": "[encoded data removed]",
      "text/plain": [
       "<Figure size 432x288 with 1 Axes>"
      ]
     },
     "metadata": {
      "needs_background": "light"
     },
     "output_type": "display_data"
    }
   ],
   "source": [
    "train_data['smog_score'] = train_data['excerpt'].apply(lambda x: textstat.smog_index((x)))\n",
    "train_data['smog_score'].hist()"
   ]
  },
  {
   "cell_type": "code",
   "execution_count": 7,
   "metadata": {},
   "outputs": [
    {
     "data": {
      "text/plain": [
       "<AxesSubplot:>"
      ]
     },
     "execution_count": 7,
     "metadata": {},
     "output_type": "execute_result"
    },
    {
     "data": {
      "image/png": "[encoded data removed]",
      "text/plain": [
       "<Figure size 432x288 with 1 Axes>"
      ]
     },
     "metadata": {
      "needs_background": "light"
     },
     "output_type": "display_data"
    }
   ],
   "source": [
    "train_data['fkg_score'] = train_data['excerpt'].apply(lambda x: textstat.flesch_kincaid_grade((x)))\n",
    "train_data['fkg_score'].hist()"
   ]
  },
  {
   "cell_type": "code",
   "execution_count": 8,
   "metadata": {},
   "outputs": [
    {
     "data": {
      "text/plain": [
       "<AxesSubplot:>"
      ]
     },
     "execution_count": 8,
     "metadata": {},
     "output_type": "execute_result"
    },
    {
     "data": {
      "image/png": "[encoded data removed]",
      "text/plain": [
       "<Figure size 432x288 with 1 Axes>"
      ]
     },
     "metadata": {
      "needs_background": "light"
     },
     "output_type": "display_data"
    }
   ],
   "source": [
    "train_data['cli_score'] = train_data['excerpt'].apply(lambda x: textstat.coleman_liau_index((x)))\n",
    "train_data['cli_score'].hist()"
   ]
  },
  {
   "cell_type": "code",
   "execution_count": 9,
   "metadata": {},
   "outputs": [
    {
     "data": {
      "text/plain": [
       "<AxesSubplot:>"
      ]
     },
     "execution_count": 9,
     "metadata": {},
     "output_type": "execute_result"
    },
    {
     "data": {
      "image/png": "[encoded data removed]",
      "text/plain": [
       "<Figure size 432x288 with 1 Axes>"
      ]
     },
     "metadata": {
      "needs_background": "light"
     },
     "output_type": "display_data"
    }
   ],
   "source": [
    "train_data['ari_score'] = train_data['excerpt'].apply(lambda x: textstat.automated_readability_index((x)))\n",
    "train_data['ari_score'].hist()"
   ]
  },
  {
   "cell_type": "code",
   "execution_count": 10,
   "metadata": {},
   "outputs": [
    {
     "data": {
      "text/plain": [
       "<AxesSubplot:>"
      ]
     },
     "execution_count": 10,
     "metadata": {},
     "output_type": "execute_result"
    },
    {
     "data": {
      "image/png": "[encoded data removed]",
      "text/plain": [
       "<Figure size 432x288 with 1 Axes>"
      ]
     },
     "metadata": {
      "needs_background": "light"
     },
     "output_type": "display_data"
    }
   ],
   "source": [
    "train_data['dcr_score'] = train_data['excerpt'].apply(lambda x: textstat.dale_chall_readability_score((x)))\n",
    "train_data['dcr_score'].hist()"
   ]
  },
  {
   "cell_type": "code",
   "execution_count": 11,
   "metadata": {},
   "outputs": [
    {
     "data": {
      "text/plain": [
       "<AxesSubplot:>"
      ]
     },
     "execution_count": 11,
     "metadata": {},
     "output_type": "execute_result"
    },
    {
     "data": {
      "image/png": "[encoded data removed]",
      "text/plain": [
       "<Figure size 432x288 with 1 Axes>"
      ]
     },
     "metadata": {
      "needs_background": "light"
     },
     "output_type": "display_data"
    }
   ],
   "source": [
    "train_data['dw_score'] = train_data['excerpt'].apply(lambda x: textstat.difficult_words((x)))\n",
    "train_data['dw_score'].hist()"
   ]
  },
  {
   "cell_type": "code",
   "execution_count": 12,
   "metadata": {},
   "outputs": [
    {
     "data": {
      "text/plain": [
       "<AxesSubplot:>"
      ]
     },
     "execution_count": 12,
     "metadata": {},
     "output_type": "execute_result"
    },
    {
     "data": {
      "image/png": "[encoded data removed]",
      "text/plain": [
       "<Figure size 432x288 with 1 Axes>"
      ]
     },
     "metadata": {
      "needs_background": "light"
     },
     "output_type": "display_data"
    }
   ],
   "source": [
    "train_data['lwf_score'] = train_data['excerpt'].apply(lambda x: textstat.linsear_write_formula((x)))\n",
    "train_data['lwf_score'].hist()"
   ]
  },
  {
   "cell_type": "code",
   "execution_count": 13,
   "metadata": {},
   "outputs": [
    {
     "data": {
      "text/plain": [
       "<AxesSubplot:>"
      ]
     },
     "execution_count": 13,
     "metadata": {},
     "output_type": "execute_result"
    },
    {
     "data": {
      "image/png": "[encoded data removed]",
      "text/plain": [
       "<Figure size 432x288 with 1 Axes>"
      ]
     },
     "metadata": {
      "needs_background": "light"
     },
     "output_type": "display_data"
    }
   ],
   "source": [
    "train_data['gf_score'] = train_data['excerpt'].apply(lambda x: textstat.gunning_fog((x)))\n",
    "train_data['gf_score'].hist()"
   ]
  },
  {
   "cell_type": "code",
   "execution_count": 14,
   "metadata": {},
   "outputs": [
    {
     "data": {
      "text/plain": [
       "<AxesSubplot:>"
      ]
     },
     "execution_count": 14,
     "metadata": {},
     "output_type": "execute_result"
    },
    {
     "data": {
      "image/png": "[encoded data removed]",
      "text/plain": [
       "<Figure size 432x288 with 1 Axes>"
      ]
     },
     "metadata": {
      "needs_background": "light"
     },
     "output_type": "display_data"
    }
   ],
   "source": [
    "train_data['ts_score'] = train_data['excerpt'].apply(lambda x: textstat.text_standard((x)))\n",
    "train_data['ts_score'].hist()"
   ]
  },
  {
   "cell_type": "code",
   "execution_count": 15,
   "metadata": {},
   "outputs": [
    {
     "data": {
      "text/plain": [
       "<AxesSubplot:>"
      ]
     },
     "execution_count": 15,
     "metadata": {},
     "output_type": "execute_result"
    },
    {
     "data": {
      "image/png": "[encoded data removed]",
      "text/plain": [
       "<Figure size 432x288 with 1 Axes>"
      ]
     },
     "metadata": {
      "needs_background": "light"
     },
     "output_type": "display_data"
    }
   ],
   "source": [
    "train_data['fh_score'] = train_data['excerpt'].apply(lambda x: textstat.fernandez_huerta((x)))\n",
    "train_data['fh_score'].hist()"
   ]
  },
  {
   "cell_type": "code",
   "execution_count": 16,
   "metadata": {},
   "outputs": [
    {
     "data": {
      "text/plain": [
       "<AxesSubplot:>"
      ]
     },
     "execution_count": 16,
     "metadata": {},
     "output_type": "execute_result"
    },
    {
     "data": {
      "image/png": "[encoded data removed]",
      "text/plain": [
       "<Figure size 432x288 with 1 Axes>"
      ]
     },
     "metadata": {
      "needs_background": "light"
     },
     "output_type": "display_data"
    }
   ],
   "source": [
    "train_data['sp_score'] = train_data['excerpt'].apply(lambda x: textstat.szigriszt_pazos((x)))\n",
    "train_data['sp_score'].hist()"
   ]
  },
  {
   "cell_type": "code",
   "execution_count": 17,
   "metadata": {},
   "outputs": [
    {
     "data": {
      "text/plain": [
       "<AxesSubplot:>"
      ]
     },
     "execution_count": 17,
     "metadata": {},
     "output_type": "execute_result"
    },
    {
     "data": {
      "image/png": "[encoded data removed]",
      "text/plain": [
       "<Figure size 432x288 with 1 Axes>"
      ]
     },
     "metadata": {
      "needs_background": "light"
     },
     "output_type": "display_data"
    }
   ],
   "source": [
    "train_data['gp_score'] = train_data['excerpt'].apply(lambda x: textstat.gutierrez_polini((x)))\n",
    "train_data['gp_score'].hist()"
   ]
  },
  {
   "cell_type": "code",
   "execution_count": 18,
   "metadata": {},
   "outputs": [
    {
     "data": {
      "text/plain": [
       "<AxesSubplot:>"
      ]
     },
     "execution_count": 18,
     "metadata": {},
     "output_type": "execute_result"
    },
    {
     "data": {
      "image/png": "[encoded data removed]",
      "text/plain": [
       "<Figure size 432x288 with 1 Axes>"
      ]
     },
     "metadata": {
      "needs_background": "light"
     },
     "output_type": "display_data"
    }
   ],
   "source": [
    "train_data['cf_score'] = train_data['excerpt'].apply(lambda x: textstat.crawford((x)))\n",
    "train_data['cf_score'].hist()"
   ]
  },
  {
   "cell_type": "markdown",
   "metadata": {},
   "source": [
    "the following 4 methods follow normal distribution\n",
    "- smog_index\n",
    "- gp_score\n",
    "- cf_score\n",
    "- cli_score"
   ]
  },
  {
   "cell_type": "code",
   "execution_count": 19,
   "metadata": {
    "scrolled": true
   },
   "outputs": [
    {
     "data": {
      "text/html": [
       "<div>\n",
       "<style scoped>\n",
       "    .dataframe tbody tr th:only-of-type {\n",
       "        vertical-align: middle;\n",
       "    }\n",
       "\n",
       "    .dataframe tbody tr th {\n",
       "        vertical-align: top;\n",
       "    }\n",
       "\n",
       "    .dataframe thead th {\n",
       "        text-align: right;\n",
       "    }\n",
       "</style>\n",
       "<table border=\"1\" class=\"dataframe\">\n",
       "  <thead>\n",
       "    <tr style=\"text-align: right;\">\n",
       "      <th></th>\n",
       "      <th>target</th>\n",
       "      <th>fre_score</th>\n",
       "      <th>smog_score</th>\n",
       "      <th>gp_score</th>\n",
       "      <th>cf_score</th>\n",
       "      <th>cli_score</th>\n",
       "    </tr>\n",
       "  </thead>\n",
       "  <tbody>\n",
       "    <tr>\n",
       "      <th>1041</th>\n",
       "      <td>-0.123531</td>\n",
       "      <td>58.72</td>\n",
       "      <td>13.9</td>\n",
       "      <td>37.58</td>\n",
       "      <td>3.0</td>\n",
       "      <td>12.82</td>\n",
       "    </tr>\n",
       "    <tr>\n",
       "      <th>2433</th>\n",
       "      <td>-0.516232</td>\n",
       "      <td>69.15</td>\n",
       "      <td>11.2</td>\n",
       "      <td>41.72</td>\n",
       "      <td>2.3</td>\n",
       "      <td>9.29</td>\n",
       "    </tr>\n",
       "    <tr>\n",
       "      <th>450</th>\n",
       "      <td>-0.133798</td>\n",
       "      <td>74.90</td>\n",
       "      <td>8.8</td>\n",
       "      <td>44.99</td>\n",
       "      <td>1.9</td>\n",
       "      <td>9.09</td>\n",
       "    </tr>\n",
       "    <tr>\n",
       "      <th>789</th>\n",
       "      <td>-0.618987</td>\n",
       "      <td>57.61</td>\n",
       "      <td>12.8</td>\n",
       "      <td>37.61</td>\n",
       "      <td>2.9</td>\n",
       "      <td>12.53</td>\n",
       "    </tr>\n",
       "    <tr>\n",
       "      <th>636</th>\n",
       "      <td>0.390334</td>\n",
       "      <td>61.46</td>\n",
       "      <td>11.9</td>\n",
       "      <td>42.10</td>\n",
       "      <td>2.6</td>\n",
       "      <td>10.68</td>\n",
       "    </tr>\n",
       "    <tr>\n",
       "      <th>691</th>\n",
       "      <td>-0.416671</td>\n",
       "      <td>64.61</td>\n",
       "      <td>11.2</td>\n",
       "      <td>41.37</td>\n",
       "      <td>2.5</td>\n",
       "      <td>11.19</td>\n",
       "    </tr>\n",
       "    <tr>\n",
       "      <th>2004</th>\n",
       "      <td>1.124295</td>\n",
       "      <td>90.53</td>\n",
       "      <td>6.0</td>\n",
       "      <td>47.55</td>\n",
       "      <td>1.3</td>\n",
       "      <td>6.74</td>\n",
       "    </tr>\n",
       "    <tr>\n",
       "      <th>958</th>\n",
       "      <td>-1.040647</td>\n",
       "      <td>65.62</td>\n",
       "      <td>10.6</td>\n",
       "      <td>44.09</td>\n",
       "      <td>2.2</td>\n",
       "      <td>9.74</td>\n",
       "    </tr>\n",
       "    <tr>\n",
       "      <th>661</th>\n",
       "      <td>1.367284</td>\n",
       "      <td>78.48</td>\n",
       "      <td>9.4</td>\n",
       "      <td>47.17</td>\n",
       "      <td>1.8</td>\n",
       "      <td>7.36</td>\n",
       "    </tr>\n",
       "    <tr>\n",
       "      <th>1981</th>\n",
       "      <td>0.381140</td>\n",
       "      <td>78.08</td>\n",
       "      <td>8.1</td>\n",
       "      <td>49.40</td>\n",
       "      <td>1.6</td>\n",
       "      <td>6.21</td>\n",
       "    </tr>\n",
       "    <tr>\n",
       "      <th>1652</th>\n",
       "      <td>-1.676793</td>\n",
       "      <td>67.62</td>\n",
       "      <td>10.1</td>\n",
       "      <td>43.95</td>\n",
       "      <td>2.2</td>\n",
       "      <td>7.90</td>\n",
       "    </tr>\n",
       "    <tr>\n",
       "      <th>2612</th>\n",
       "      <td>0.467264</td>\n",
       "      <td>73.44</td>\n",
       "      <td>3.1</td>\n",
       "      <td>44.92</td>\n",
       "      <td>1.9</td>\n",
       "      <td>6.80</td>\n",
       "    </tr>\n",
       "    <tr>\n",
       "      <th>2138</th>\n",
       "      <td>-1.782426</td>\n",
       "      <td>86.03</td>\n",
       "      <td>8.1</td>\n",
       "      <td>46.24</td>\n",
       "      <td>1.4</td>\n",
       "      <td>8.01</td>\n",
       "    </tr>\n",
       "    <tr>\n",
       "      <th>1559</th>\n",
       "      <td>-1.052468</td>\n",
       "      <td>70.97</td>\n",
       "      <td>10.9</td>\n",
       "      <td>46.65</td>\n",
       "      <td>2.2</td>\n",
       "      <td>6.68</td>\n",
       "    </tr>\n",
       "    <tr>\n",
       "      <th>1268</th>\n",
       "      <td>-1.817004</td>\n",
       "      <td>77.30</td>\n",
       "      <td>9.6</td>\n",
       "      <td>46.55</td>\n",
       "      <td>1.9</td>\n",
       "      <td>6.33</td>\n",
       "    </tr>\n",
       "    <tr>\n",
       "      <th>1380</th>\n",
       "      <td>-0.961665</td>\n",
       "      <td>82.92</td>\n",
       "      <td>7.6</td>\n",
       "      <td>48.63</td>\n",
       "      <td>1.4</td>\n",
       "      <td>4.77</td>\n",
       "    </tr>\n",
       "    <tr>\n",
       "      <th>2688</th>\n",
       "      <td>-0.810444</td>\n",
       "      <td>77.98</td>\n",
       "      <td>8.5</td>\n",
       "      <td>46.76</td>\n",
       "      <td>1.7</td>\n",
       "      <td>7.78</td>\n",
       "    </tr>\n",
       "    <tr>\n",
       "      <th>372</th>\n",
       "      <td>-1.501553</td>\n",
       "      <td>37.34</td>\n",
       "      <td>17.3</td>\n",
       "      <td>34.32</td>\n",
       "      <td>4.2</td>\n",
       "      <td>14.10</td>\n",
       "    </tr>\n",
       "    <tr>\n",
       "      <th>2796</th>\n",
       "      <td>-1.366705</td>\n",
       "      <td>28.51</td>\n",
       "      <td>18.9</td>\n",
       "      <td>31.26</td>\n",
       "      <td>4.4</td>\n",
       "      <td>14.40</td>\n",
       "    </tr>\n",
       "    <tr>\n",
       "      <th>536</th>\n",
       "      <td>-1.348816</td>\n",
       "      <td>57.71</td>\n",
       "      <td>12.0</td>\n",
       "      <td>39.18</td>\n",
       "      <td>2.9</td>\n",
       "      <td>11.66</td>\n",
       "    </tr>\n",
       "    <tr>\n",
       "      <th>2554</th>\n",
       "      <td>0.652235</td>\n",
       "      <td>66.41</td>\n",
       "      <td>8.3</td>\n",
       "      <td>44.12</td>\n",
       "      <td>2.1</td>\n",
       "      <td>7.56</td>\n",
       "    </tr>\n",
       "    <tr>\n",
       "      <th>65</th>\n",
       "      <td>1.039927</td>\n",
       "      <td>82.99</td>\n",
       "      <td>8.4</td>\n",
       "      <td>45.49</td>\n",
       "      <td>1.7</td>\n",
       "      <td>7.83</td>\n",
       "    </tr>\n",
       "    <tr>\n",
       "      <th>742</th>\n",
       "      <td>0.861480</td>\n",
       "      <td>65.25</td>\n",
       "      <td>12.4</td>\n",
       "      <td>41.88</td>\n",
       "      <td>2.5</td>\n",
       "      <td>10.16</td>\n",
       "    </tr>\n",
       "    <tr>\n",
       "      <th>2674</th>\n",
       "      <td>0.150524</td>\n",
       "      <td>84.85</td>\n",
       "      <td>7.2</td>\n",
       "      <td>49.26</td>\n",
       "      <td>1.3</td>\n",
       "      <td>4.53</td>\n",
       "    </tr>\n",
       "    <tr>\n",
       "      <th>1758</th>\n",
       "      <td>-2.319228</td>\n",
       "      <td>58.01</td>\n",
       "      <td>13.7</td>\n",
       "      <td>41.36</td>\n",
       "      <td>3.1</td>\n",
       "      <td>10.39</td>\n",
       "    </tr>\n",
       "    <tr>\n",
       "      <th>1176</th>\n",
       "      <td>-1.085751</td>\n",
       "      <td>83.46</td>\n",
       "      <td>6.9</td>\n",
       "      <td>47.95</td>\n",
       "      <td>1.3</td>\n",
       "      <td>7.29</td>\n",
       "    </tr>\n",
       "    <tr>\n",
       "      <th>1364</th>\n",
       "      <td>-2.290895</td>\n",
       "      <td>70.87</td>\n",
       "      <td>10.3</td>\n",
       "      <td>44.25</td>\n",
       "      <td>2.0</td>\n",
       "      <td>8.13</td>\n",
       "    </tr>\n",
       "    <tr>\n",
       "      <th>598</th>\n",
       "      <td>-1.067678</td>\n",
       "      <td>57.71</td>\n",
       "      <td>12.5</td>\n",
       "      <td>41.70</td>\n",
       "      <td>2.9</td>\n",
       "      <td>10.15</td>\n",
       "    </tr>\n",
       "    <tr>\n",
       "      <th>467</th>\n",
       "      <td>-0.731023</td>\n",
       "      <td>31.62</td>\n",
       "      <td>15.7</td>\n",
       "      <td>37.63</td>\n",
       "      <td>4.4</td>\n",
       "      <td>12.71</td>\n",
       "    </tr>\n",
       "    <tr>\n",
       "      <th>270</th>\n",
       "      <td>-1.238432</td>\n",
       "      <td>57.20</td>\n",
       "      <td>11.8</td>\n",
       "      <td>44.23</td>\n",
       "      <td>2.8</td>\n",
       "      <td>8.83</td>\n",
       "    </tr>\n",
       "    <tr>\n",
       "      <th>19</th>\n",
       "      <td>-1.009999</td>\n",
       "      <td>74.42</td>\n",
       "      <td>8.5</td>\n",
       "      <td>45.97</td>\n",
       "      <td>1.9</td>\n",
       "      <td>7.54</td>\n",
       "    </tr>\n",
       "    <tr>\n",
       "      <th>2711</th>\n",
       "      <td>-2.670900</td>\n",
       "      <td>60.69</td>\n",
       "      <td>12.8</td>\n",
       "      <td>40.60</td>\n",
       "      <td>2.8</td>\n",
       "      <td>9.93</td>\n",
       "    </tr>\n",
       "    <tr>\n",
       "      <th>1342</th>\n",
       "      <td>-2.546850</td>\n",
       "      <td>67.08</td>\n",
       "      <td>11.9</td>\n",
       "      <td>41.76</td>\n",
       "      <td>2.7</td>\n",
       "      <td>10.27</td>\n",
       "    </tr>\n",
       "    <tr>\n",
       "      <th>1986</th>\n",
       "      <td>-0.003261</td>\n",
       "      <td>74.73</td>\n",
       "      <td>10.0</td>\n",
       "      <td>47.84</td>\n",
       "      <td>2.1</td>\n",
       "      <td>6.50</td>\n",
       "    </tr>\n",
       "    <tr>\n",
       "      <th>2173</th>\n",
       "      <td>-2.949988</td>\n",
       "      <td>34.12</td>\n",
       "      <td>15.9</td>\n",
       "      <td>34.45</td>\n",
       "      <td>3.7</td>\n",
       "      <td>11.91</td>\n",
       "    </tr>\n",
       "    <tr>\n",
       "      <th>398</th>\n",
       "      <td>-0.281876</td>\n",
       "      <td>65.52</td>\n",
       "      <td>9.1</td>\n",
       "      <td>41.17</td>\n",
       "      <td>2.4</td>\n",
       "      <td>11.48</td>\n",
       "    </tr>\n",
       "    <tr>\n",
       "      <th>164</th>\n",
       "      <td>-0.855848</td>\n",
       "      <td>50.20</td>\n",
       "      <td>11.2</td>\n",
       "      <td>37.15</td>\n",
       "      <td>2.0</td>\n",
       "      <td>6.92</td>\n",
       "    </tr>\n",
       "    <tr>\n",
       "      <th>2469</th>\n",
       "      <td>-0.442099</td>\n",
       "      <td>78.79</td>\n",
       "      <td>8.5</td>\n",
       "      <td>48.59</td>\n",
       "      <td>1.7</td>\n",
       "      <td>6.55</td>\n",
       "    </tr>\n",
       "    <tr>\n",
       "      <th>869</th>\n",
       "      <td>-0.769009</td>\n",
       "      <td>75.10</td>\n",
       "      <td>9.9</td>\n",
       "      <td>44.06</td>\n",
       "      <td>1.8</td>\n",
       "      <td>9.67</td>\n",
       "    </tr>\n",
       "    <tr>\n",
       "      <th>2530</th>\n",
       "      <td>-0.320310</td>\n",
       "      <td>80.01</td>\n",
       "      <td>8.5</td>\n",
       "      <td>46.37</td>\n",
       "      <td>1.7</td>\n",
       "      <td>8.18</td>\n",
       "    </tr>\n",
       "  </tbody>\n",
       "</table>\n",
       "</div>"
      ],
      "text/plain": [
       "        target  fre_score  smog_score  gp_score  cf_score  cli_score\n",
       "1041 -0.123531      58.72        13.9     37.58       3.0      12.82\n",
       "2433 -0.516232      69.15        11.2     41.72       2.3       9.29\n",
       "450  -0.133798      74.90         8.8     44.99       1.9       9.09\n",
       "789  -0.618987      57.61        12.8     37.61       2.9      12.53\n",
       "636   0.390334      61.46        11.9     42.10       2.6      10.68\n",
       "691  -0.416671      64.61        11.2     41.37       2.5      11.19\n",
       "2004  1.124295      90.53         6.0     47.55       1.3       6.74\n",
       "958  -1.040647      65.62        10.6     44.09       2.2       9.74\n",
       "661   1.367284      78.48         9.4     47.17       1.8       7.36\n",
       "1981  0.381140      78.08         8.1     49.40       1.6       6.21\n",
       "1652 -1.676793      67.62        10.1     43.95       2.2       7.90\n",
       "2612  0.467264      73.44         3.1     44.92       1.9       6.80\n",
       "2138 -1.782426      86.03         8.1     46.24       1.4       8.01\n",
       "1559 -1.052468      70.97        10.9     46.65       2.2       6.68\n",
       "1268 -1.817004      77.30         9.6     46.55       1.9       6.33\n",
       "1380 -0.961665      82.92         7.6     48.63       1.4       4.77\n",
       "2688 -0.810444      77.98         8.5     46.76       1.7       7.78\n",
       "372  -1.501553      37.34        17.3     34.32       4.2      14.10\n",
       "2796 -1.366705      28.51        18.9     31.26       4.4      14.40\n",
       "536  -1.348816      57.71        12.0     39.18       2.9      11.66\n",
       "2554  0.652235      66.41         8.3     44.12       2.1       7.56\n",
       "65    1.039927      82.99         8.4     45.49       1.7       7.83\n",
       "742   0.861480      65.25        12.4     41.88       2.5      10.16\n",
       "2674  0.150524      84.85         7.2     49.26       1.3       4.53\n",
       "1758 -2.319228      58.01        13.7     41.36       3.1      10.39\n",
       "1176 -1.085751      83.46         6.9     47.95       1.3       7.29\n",
       "1364 -2.290895      70.87        10.3     44.25       2.0       8.13\n",
       "598  -1.067678      57.71        12.5     41.70       2.9      10.15\n",
       "467  -0.731023      31.62        15.7     37.63       4.4      12.71\n",
       "270  -1.238432      57.20        11.8     44.23       2.8       8.83\n",
       "19   -1.009999      74.42         8.5     45.97       1.9       7.54\n",
       "2711 -2.670900      60.69        12.8     40.60       2.8       9.93\n",
       "1342 -2.546850      67.08        11.9     41.76       2.7      10.27\n",
       "1986 -0.003261      74.73        10.0     47.84       2.1       6.50\n",
       "2173 -2.949988      34.12        15.9     34.45       3.7      11.91\n",
       "398  -0.281876      65.52         9.1     41.17       2.4      11.48\n",
       "164  -0.855848      50.20        11.2     37.15       2.0       6.92\n",
       "2469 -0.442099      78.79         8.5     48.59       1.7       6.55\n",
       "869  -0.769009      75.10         9.9     44.06       1.8       9.67\n",
       "2530 -0.320310      80.01         8.5     46.37       1.7       8.18"
      ]
     },
     "execution_count": 19,
     "metadata": {},
     "output_type": "execute_result"
    }
   ],
   "source": [
    "train_data[['target', 'fre_score', 'smog_score', 'gp_score', 'cf_score', 'cli_score']].sample(40)"
   ]
  },
  {
   "cell_type": "markdown",
   "metadata": {},
   "source": [
    "# Data Augmentation"
   ]
  },
  {
   "cell_type": "code",
   "execution_count": 20,
   "metadata": {},
   "outputs": [
    {
     "name": "stdout",
     "output_type": "stream",
     "text": [
      "16 4\n"
     ]
    }
   ],
   "source": [
    "from sklearn.model_selection import train_test_split\n",
    "sub_data = train_data.sample(20)\n",
    "sub_train_data, sub_test_data = train_test_split(sub_data, test_size=0.2)\n",
    "print(len(sub_train_data), len(sub_test_data))"
   ]
  },
  {
   "cell_type": "code",
   "execution_count": 27,
   "metadata": {},
   "outputs": [],
   "source": [
    "import json\n",
    "\n",
    "config = {\n",
    "    'augs': [\n",
    "        ('back_translation', None), \n",
    "        ('context_word_embs', 'bert-base-cased'),\n",
    "        ('context_word_embs', 'xlnet-base-cased')\n",
    "    ],\n",
    "    'device': 'cuda',\n",
    "    'batch_size': 500,\n",
    "    'validation_methods': ['fre', 'smog', 'gp', 'cf', 'cli'],\n",
    "    'change_threshold': 0.1,\n",
    "    'min_voter': 4\n",
    "}\n",
    "\n",
    "with open(\"augmentation_config.json\", \"w\") as outfile: \n",
    "    json.dump(config, outfile, indent=4)"
   ]
  },
  {
   "cell_type": "code",
   "execution_count": 23,
   "metadata": {},
   "outputs": [
    {
     "name": "stderr",
     "output_type": "stream",
     "text": [
      "Using cache found in /home/edward/.cache/torch/hub/pytorch_fairseq_master\n",
      "Using cache found in /home/edward/.cache/torch/hub/pytorch_fairseq_master\n"
     ]
    }
   ],
   "source": [
    "from augmentation import Augmentor\n",
    "augmentor = Augmentor('augmentation_config.json')"
   ]
  },
  {
   "cell_type": "code",
   "execution_count": 24,
   "metadata": {},
   "outputs": [
    {
     "name": "stderr",
     "output_type": "stream",
     "text": [
      "/mnt/c/edward/coding/kaggle/common-lit-kaggle/augmentation.py:58: SettingWithCopyWarning: \n",
      "A value is trying to be set on a copy of a slice from a DataFrame.\n",
      "Try using .loc[row_indexer,col_indexer] = value instead\n",
      "\n",
      "See the caveats in the documentation: https://pandas.pydata.org/pandas-docs/stable/user_guide/indexing.html#returning-a-view-versus-a-copy\n",
      "  data['fre_score'] = data['excerpt'].apply(lambda x: textstat.flesch_reading_ease((x)))\n",
      "/mnt/c/edward/coding/kaggle/common-lit-kaggle/augmentation.py:59: SettingWithCopyWarning: \n",
      "A value is trying to be set on a copy of a slice from a DataFrame.\n",
      "Try using .loc[row_indexer,col_indexer] = value instead\n",
      "\n",
      "See the caveats in the documentation: https://pandas.pydata.org/pandas-docs/stable/user_guide/indexing.html#returning-a-view-versus-a-copy\n",
      "  data['smog_score'] = data['excerpt'].apply(lambda x: textstat.smog_index((x)))\n",
      "/mnt/c/edward/coding/kaggle/common-lit-kaggle/augmentation.py:60: SettingWithCopyWarning: \n",
      "A value is trying to be set on a copy of a slice from a DataFrame.\n",
      "Try using .loc[row_indexer,col_indexer] = value instead\n",
      "\n",
      "See the caveats in the documentation: https://pandas.pydata.org/pandas-docs/stable/user_guide/indexing.html#returning-a-view-versus-a-copy\n",
      "  data['gp_score'] = data['excerpt'].apply(lambda x: textstat.gutierrez_polini((x)))\n",
      "/mnt/c/edward/coding/kaggle/common-lit-kaggle/augmentation.py:61: SettingWithCopyWarning: \n",
      "A value is trying to be set on a copy of a slice from a DataFrame.\n",
      "Try using .loc[row_indexer,col_indexer] = value instead\n",
      "\n",
      "See the caveats in the documentation: https://pandas.pydata.org/pandas-docs/stable/user_guide/indexing.html#returning-a-view-versus-a-copy\n",
      "  data['cf_score'] = data['excerpt'].apply(lambda x: textstat.crawford((x)))\n",
      "/mnt/c/edward/coding/kaggle/common-lit-kaggle/augmentation.py:62: SettingWithCopyWarning: \n",
      "A value is trying to be set on a copy of a slice from a DataFrame.\n",
      "Try using .loc[row_indexer,col_indexer] = value instead\n",
      "\n",
      "See the caveats in the documentation: https://pandas.pydata.org/pandas-docs/stable/user_guide/indexing.html#returning-a-view-versus-a-copy\n",
      "  data['cli_score'] = data['excerpt'].apply(lambda x: textstat.coleman_liau_index((x)))\n",
      "1/2:BackTranslationAug: 1it [12:06, 726.05s/it]\n",
      "2/2:ContextualWordEmbs_Aug: 1it [00:37, 37.54s/it]\n"
     ]
    },
    {
     "data": {
      "text/html": [
       "<div>\n",
       "<style scoped>\n",
       "    .dataframe tbody tr th:only-of-type {\n",
       "        vertical-align: middle;\n",
       "    }\n",
       "\n",
       "    .dataframe tbody tr th {\n",
       "        vertical-align: top;\n",
       "    }\n",
       "\n",
       "    .dataframe thead th {\n",
       "        text-align: right;\n",
       "    }\n",
       "</style>\n",
       "<table border=\"1\" class=\"dataframe\">\n",
       "  <thead>\n",
       "    <tr style=\"text-align: right;\">\n",
       "      <th></th>\n",
       "      <th>id</th>\n",
       "      <th>url_legal</th>\n",
       "      <th>license</th>\n",
       "      <th>excerpt</th>\n",
       "      <th>target</th>\n",
       "      <th>standard_error</th>\n",
       "    </tr>\n",
       "  </thead>\n",
       "  <tbody>\n",
       "    <tr>\n",
       "      <th>0</th>\n",
       "      <td>a62b7b3b4</td>\n",
       "      <td></td>\n",
       "      <td></td>\n",
       "      <td>\"Now is the time to pick the cherries!\" Charle...</td>\n",
       "      <td>0.405275</td>\n",
       "      <td>-1</td>\n",
       "    </tr>\n",
       "    <tr>\n",
       "      <th>1</th>\n",
       "      <td>c85db4cc7</td>\n",
       "      <td></td>\n",
       "      <td></td>\n",
       "      <td>Another striking difference between monkeys an...</td>\n",
       "      <td>0.004187</td>\n",
       "      <td>-1</td>\n",
       "    </tr>\n",
       "    <tr>\n",
       "      <th>2</th>\n",
       "      <td>54163d93f</td>\n",
       "      <td></td>\n",
       "      <td></td>\n",
       "      <td>One evening, as I lay flat on the deck of my s...</td>\n",
       "      <td>-0.728202</td>\n",
       "      <td>-1</td>\n",
       "    </tr>\n",
       "    <tr>\n",
       "      <th>3</th>\n",
       "      <td>69c52df11</td>\n",
       "      <td></td>\n",
       "      <td></td>\n",
       "      <td>One method of realizing virtual reality is sim...</td>\n",
       "      <td>-1.357038</td>\n",
       "      <td>-1</td>\n",
       "    </tr>\n",
       "    <tr>\n",
       "      <th>4</th>\n",
       "      <td>f73f7365c</td>\n",
       "      <td></td>\n",
       "      <td></td>\n",
       "      <td>So if we were to portray our Earth as a small ...</td>\n",
       "      <td>-1.942804</td>\n",
       "      <td>-1</td>\n",
       "    </tr>\n",
       "    <tr>\n",
       "      <th>5</th>\n",
       "      <td>a9829cf3d</td>\n",
       "      <td></td>\n",
       "      <td></td>\n",
       "      <td>In modern politics, a state is an association ...</td>\n",
       "      <td>-0.881081</td>\n",
       "      <td>-1</td>\n",
       "    </tr>\n",
       "    <tr>\n",
       "      <th>7</th>\n",
       "      <td>9d2d55759</td>\n",
       "      <td></td>\n",
       "      <td></td>\n",
       "      <td>The British Parliament passed these laws to pu...</td>\n",
       "      <td>-0.483763</td>\n",
       "      <td>-1</td>\n",
       "    </tr>\n",
       "    <tr>\n",
       "      <th>8</th>\n",
       "      <td>6d7c845a3</td>\n",
       "      <td></td>\n",
       "      <td></td>\n",
       "      <td>The normal and characteristic occupations of t...</td>\n",
       "      <td>-3.320429</td>\n",
       "      <td>-1</td>\n",
       "    </tr>\n",
       "    <tr>\n",
       "      <th>9</th>\n",
       "      <td>e4b2adc8c</td>\n",
       "      <td></td>\n",
       "      <td></td>\n",
       "      <td>When Edward was eight years old, his mother to...</td>\n",
       "      <td>1.124295</td>\n",
       "      <td>-1</td>\n",
       "    </tr>\n",
       "    <tr>\n",
       "      <th>11</th>\n",
       "      <td>2b2fdfc8c</td>\n",
       "      <td></td>\n",
       "      <td></td>\n",
       "      <td>The boiling point of a substance is the temper...</td>\n",
       "      <td>-1.589572</td>\n",
       "      <td>-1</td>\n",
       "    </tr>\n",
       "    <tr>\n",
       "      <th>14</th>\n",
       "      <td>22b8be3d9</td>\n",
       "      <td></td>\n",
       "      <td></td>\n",
       "      <td>\"Oh Tom, is it really safe?\" A young lady, an ...</td>\n",
       "      <td>0.383169</td>\n",
       "      <td>-1</td>\n",
       "    </tr>\n",
       "    <tr>\n",
       "      <th>15</th>\n",
       "      <td>a995ad06a</td>\n",
       "      <td></td>\n",
       "      <td></td>\n",
       "      <td>It is very pleasant to make these friendships ...</td>\n",
       "      <td>0.079699</td>\n",
       "      <td>-1</td>\n",
       "    </tr>\n",
       "    <tr>\n",
       "      <th>1</th>\n",
       "      <td>c85db4cc7</td>\n",
       "      <td></td>\n",
       "      <td></td>\n",
       "      <td>Another striking difference between monkeys an...</td>\n",
       "      <td>0.004187</td>\n",
       "      <td>-1</td>\n",
       "    </tr>\n",
       "    <tr>\n",
       "      <th>2</th>\n",
       "      <td>54163d93f</td>\n",
       "      <td></td>\n",
       "      <td></td>\n",
       "      <td>One evening as I was lying flat on the deck of...</td>\n",
       "      <td>-0.728202</td>\n",
       "      <td>-1</td>\n",
       "    </tr>\n",
       "    <tr>\n",
       "      <th>3</th>\n",
       "      <td>69c52df11</td>\n",
       "      <td></td>\n",
       "      <td></td>\n",
       "      <td>One method by which virtual reality can be rea...</td>\n",
       "      <td>-1.357038</td>\n",
       "      <td>-1</td>\n",
       "    </tr>\n",
       "    <tr>\n",
       "      <th>4</th>\n",
       "      <td>f73f7365c</td>\n",
       "      <td></td>\n",
       "      <td></td>\n",
       "      <td>If, then, we represent our earth as a little b...</td>\n",
       "      <td>-1.942804</td>\n",
       "      <td>-1</td>\n",
       "    </tr>\n",
       "    <tr>\n",
       "      <th>5</th>\n",
       "      <td>a9829cf3d</td>\n",
       "      <td></td>\n",
       "      <td></td>\n",
       "      <td>In modern politics, a state means an associati...</td>\n",
       "      <td>-0.881081</td>\n",
       "      <td>-1</td>\n",
       "    </tr>\n",
       "    <tr>\n",
       "      <th>6</th>\n",
       "      <td>58e65a993</td>\n",
       "      <td></td>\n",
       "      <td></td>\n",
       "      <td>I had often wondered what became of this highl...</td>\n",
       "      <td>-1.659576</td>\n",
       "      <td>-1</td>\n",
       "    </tr>\n",
       "    <tr>\n",
       "      <th>7</th>\n",
       "      <td>9d2d55759</td>\n",
       "      <td></td>\n",
       "      <td></td>\n",
       "      <td>The Intolerable Acts or the Coercive Acts were...</td>\n",
       "      <td>-0.483763</td>\n",
       "      <td>-1</td>\n",
       "    </tr>\n",
       "    <tr>\n",
       "      <th>8</th>\n",
       "      <td>6d7c845a3</td>\n",
       "      <td></td>\n",
       "      <td></td>\n",
       "      <td>The basic and characteristic occupations of th...</td>\n",
       "      <td>-3.320429</td>\n",
       "      <td>-1</td>\n",
       "    </tr>\n",
       "    <tr>\n",
       "      <th>9</th>\n",
       "      <td>e4b2adc8c</td>\n",
       "      <td></td>\n",
       "      <td></td>\n",
       "      <td>When Edward was eight years old, his mother to...</td>\n",
       "      <td>1.124295</td>\n",
       "      <td>-1</td>\n",
       "    </tr>\n",
       "    <tr>\n",
       "      <th>10</th>\n",
       "      <td>63a3b0945</td>\n",
       "      <td></td>\n",
       "      <td></td>\n",
       "      <td>When he woke up, the room looked so funny. The...</td>\n",
       "      <td>0.500062</td>\n",
       "      <td>-1</td>\n",
       "    </tr>\n",
       "    <tr>\n",
       "      <th>11</th>\n",
       "      <td>2b2fdfc8c</td>\n",
       "      <td></td>\n",
       "      <td></td>\n",
       "      <td>The boiling point of a substance is the temper...</td>\n",
       "      <td>-1.589572</td>\n",
       "      <td>-1</td>\n",
       "    </tr>\n",
       "    <tr>\n",
       "      <th>15</th>\n",
       "      <td>a995ad06a</td>\n",
       "      <td></td>\n",
       "      <td></td>\n",
       "      <td>What a power there is in kindness! It is very ...</td>\n",
       "      <td>0.079699</td>\n",
       "      <td>-1</td>\n",
       "    </tr>\n",
       "  </tbody>\n",
       "</table>\n",
       "</div>"
      ],
      "text/plain": [
       "           id url_legal license  \\\n",
       "0   a62b7b3b4                     \n",
       "1   c85db4cc7                     \n",
       "2   54163d93f                     \n",
       "3   69c52df11                     \n",
       "4   f73f7365c                     \n",
       "5   a9829cf3d                     \n",
       "7   9d2d55759                     \n",
       "8   6d7c845a3                     \n",
       "9   e4b2adc8c                     \n",
       "11  2b2fdfc8c                     \n",
       "14  22b8be3d9                     \n",
       "15  a995ad06a                     \n",
       "1   c85db4cc7                     \n",
       "2   54163d93f                     \n",
       "3   69c52df11                     \n",
       "4   f73f7365c                     \n",
       "5   a9829cf3d                     \n",
       "6   58e65a993                     \n",
       "7   9d2d55759                     \n",
       "8   6d7c845a3                     \n",
       "9   e4b2adc8c                     \n",
       "10  63a3b0945                     \n",
       "11  2b2fdfc8c                     \n",
       "15  a995ad06a                     \n",
       "\n",
       "                                              excerpt    target  \\\n",
       "0   \"Now is the time to pick the cherries!\" Charle...  0.405275   \n",
       "1   Another striking difference between monkeys an...  0.004187   \n",
       "2   One evening, as I lay flat on the deck of my s... -0.728202   \n",
       "3   One method of realizing virtual reality is sim... -1.357038   \n",
       "4   So if we were to portray our Earth as a small ... -1.942804   \n",
       "5   In modern politics, a state is an association ... -0.881081   \n",
       "7   The British Parliament passed these laws to pu... -0.483763   \n",
       "8   The normal and characteristic occupations of t... -3.320429   \n",
       "9   When Edward was eight years old, his mother to...  1.124295   \n",
       "11  The boiling point of a substance is the temper... -1.589572   \n",
       "14  \"Oh Tom, is it really safe?\" A young lady, an ...  0.383169   \n",
       "15  It is very pleasant to make these friendships ...  0.079699   \n",
       "1   Another striking difference between monkeys an...  0.004187   \n",
       "2   One evening as I was lying flat on the deck of... -0.728202   \n",
       "3   One method by which virtual reality can be rea... -1.357038   \n",
       "4   If, then, we represent our earth as a little b... -1.942804   \n",
       "5   In modern politics, a state means an associati... -0.881081   \n",
       "6   I had often wondered what became of this highl... -1.659576   \n",
       "7   The Intolerable Acts or the Coercive Acts were... -0.483763   \n",
       "8   The basic and characteristic occupations of th... -3.320429   \n",
       "9   When Edward was eight years old, his mother to...  1.124295   \n",
       "10  When he woke up, the room looked so funny. The...  0.500062   \n",
       "11  The boiling point of a substance is the temper... -1.589572   \n",
       "15  What a power there is in kindness! It is very ...  0.079699   \n",
       "\n",
       "    standard_error  \n",
       "0               -1  \n",
       "1               -1  \n",
       "2               -1  \n",
       "3               -1  \n",
       "4               -1  \n",
       "5               -1  \n",
       "7               -1  \n",
       "8               -1  \n",
       "9               -1  \n",
       "11              -1  \n",
       "14              -1  \n",
       "15              -1  \n",
       "1               -1  \n",
       "2               -1  \n",
       "3               -1  \n",
       "4               -1  \n",
       "5               -1  \n",
       "6               -1  \n",
       "7               -1  \n",
       "8               -1  \n",
       "9               -1  \n",
       "10              -1  \n",
       "11              -1  \n",
       "15              -1  "
      ]
     },
     "execution_count": 24,
     "metadata": {},
     "output_type": "execute_result"
    }
   ],
   "source": [
    "aug_data = augmentor.generate(sub_train_data)\n",
    "aug_data"
   ]
  },
  {
   "cell_type": "code",
   "execution_count": null,
   "metadata": {},
   "outputs": [],
   "source": []
  }
 ],
 "metadata": {
  "kernelspec": {
   "display_name": "nlpaug_dev",
   "language": "python",
   "name": "nlpaug_dev"
  },
  "language_info": {
   "codemirror_mode": {
    "name": "ipython",
    "version": 3
   },
   "file_extension": ".py",
   "mimetype": "text/x-python",
   "name": "python",
   "nbconvert_exporter": "python",
   "pygments_lexer": "ipython3",
   "version": "3.8.5"
  }
 },
 "nbformat": 4,
 "nbformat_minor": 4
}
