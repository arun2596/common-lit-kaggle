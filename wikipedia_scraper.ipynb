{
 "cells": [
  {
   "cell_type": "code",
   "execution_count": 1,
   "metadata": {},
   "outputs": [],
   "source": [
    "import pandas as pd\n",
    "import matplotlib.pyplot as plt"
   ]
  },
  {
   "cell_type": "code",
   "execution_count": 2,
   "metadata": {},
   "outputs": [],
   "source": [
    "df = pd.read_csv('train.csv')"
   ]
  },
  {
   "cell_type": "code",
   "execution_count": 3,
   "metadata": {},
   "outputs": [],
   "source": [
    "def get_len(tx):\n",
    "    return len(tx.split(' '))\n",
    "\n",
    "def get_sentences(tx):\n",
    "    ls = tx.split('.')\n",
    "    ctr = 0\n",
    "    for j in ls:\n",
    "        if j!='':\n",
    "            ctr+=1\n",
    "    return ctr\n",
    "        "
   ]
  },
  {
   "cell_type": "code",
   "execution_count": 4,
   "metadata": {},
   "outputs": [
    {
     "data": {
      "text/plain": [
       "Index(['id', 'url_legal', 'license', 'excerpt', 'target', 'standard_error'], dtype='object')"
      ]
     },
     "execution_count": 4,
     "metadata": {},
     "output_type": "execute_result"
    }
   ],
   "source": [
    "df.columns"
   ]
  },
  {
   "cell_type": "markdown",
   "metadata": {},
   "source": [
    "### Basic EDA "
   ]
  },
  {
   "cell_type": "code",
   "execution_count": 5,
   "metadata": {},
   "outputs": [
    {
     "data": {
      "text/plain": [
       "(array([  1.,  75., 253., 326., 346., 384., 459., 414., 408., 168.]),\n",
       " array([125., 133., 141., 149., 157., 165., 173., 181., 189., 197., 205.]),\n",
       " <BarContainer object of 10 artists>)"
      ]
     },
     "execution_count": 5,
     "metadata": {},
     "output_type": "execute_result"
    },
    {
     "data": {
      "image/png": "[encoded data removed]",
      "text/plain": [
       "<Figure size 432x288 with 1 Axes>"
      ]
     },
     "metadata": {
      "needs_background": "light"
     },
     "output_type": "display_data"
    }
   ],
   "source": [
    "plt.hist(df.apply(lambda x: get_len(x['excerpt']), axis=1))"
   ]
  },
  {
   "cell_type": "code",
   "execution_count": 6,
   "metadata": {},
   "outputs": [
    {
     "data": {
      "text/plain": [
       "(array([ 363., 1123.,  764.,  315.,  142.,   83.,   29.,    8.,    5.,\n",
       "           2.]),\n",
       " array([ 2. ,  5.2,  8.4, 11.6, 14.8, 18. , 21.2, 24.4, 27.6, 30.8, 34. ]),\n",
       " <BarContainer object of 10 artists>)"
      ]
     },
     "execution_count": 6,
     "metadata": {},
     "output_type": "execute_result"
    },
    {
     "data": {
      "image/png": "[encoded data removed]",
      "text/plain": [
       "<Figure size 432x288 with 1 Axes>"
      ]
     },
     "metadata": {
      "needs_background": "light"
     },
     "output_type": "display_data"
    }
   ],
   "source": [
    "df['sen_len'] = df.apply(lambda x: get_sentences(x['excerpt']), axis=1)\n",
    "plt.hist(df.apply(lambda x: get_sentences(x['excerpt']), axis=1))"
   ]
  },
  {
   "cell_type": "code",
   "execution_count": 7,
   "metadata": {},
   "outputs": [
    {
     "data": {
      "text/plain": [
       "(array([ 55., 120., 280., 402., 490., 563., 458., 312., 123.,  31.]),\n",
       " array([-3.67626777, -3.13750201, -2.59873625, -2.05997049, -1.52120473,\n",
       "        -0.98243897, -0.44367321,  0.09509255,  0.63385831,  1.17262407,\n",
       "         1.71138983]),\n",
       " <BarContainer object of 10 artists>)"
      ]
     },
     "execution_count": 7,
     "metadata": {},
     "output_type": "execute_result"
    },
    {
     "data": {
      "image/png": "[encoded data removed]",
      "text/plain": [
       "<Figure size 432x288 with 1 Axes>"
      ]
     },
     "metadata": {
      "needs_background": "light"
     },
     "output_type": "display_data"
    }
   ],
   "source": [
    "plt.hist(df['target'])"
   ]
  },
  {
   "cell_type": "code",
   "execution_count": 10,
   "metadata": {},
   "outputs": [
    {
     "data": {
      "text/plain": [
       "(array([1.000e+00, 0.000e+00, 0.000e+00, 0.000e+00, 0.000e+00, 0.000e+00,\n",
       "        2.220e+02, 2.161e+03, 3.900e+02, 6.000e+01]),\n",
       " array([0.        , 0.06496713, 0.12993426, 0.19490139, 0.25986852,\n",
       "        0.32483565, 0.38980278, 0.45476991, 0.51973704, 0.58470417,\n",
       "        0.6496713 ]),\n",
       " <BarContainer object of 10 artists>)"
      ]
     },
     "execution_count": 10,
     "metadata": {},
     "output_type": "execute_result"
    },
    {
     "data": {
      "image/png": "[encoded data removed]",
      "text/plain": [
       "<Figure size 432x288 with 1 Axes>"
      ]
     },
     "metadata": {
      "needs_background": "light"
     },
     "output_type": "display_data"
    }
   ],
   "source": [
    "plt.hist(df['standard_error'])"
   ]
  },
  {
   "cell_type": "markdown",
   "metadata": {},
   "source": [
    "### CHECKING WIKIPEDIA PAGES TARGET DISTRIBUTION "
   ]
  },
  {
   "cell_type": "code",
   "execution_count": 153,
   "metadata": {},
   "outputs": [],
   "source": [
    "df['wikipedia_true'] = df.apply(lambda x:  x['url_legal'].find('wikipedia')>0 if pd.isna(x['url_legal'])!=True else False, axis=1)"
   ]
  },
  {
   "cell_type": "code",
   "execution_count": 154,
   "metadata": {},
   "outputs": [
    {
     "data": {
      "text/plain": [
       "372"
      ]
     },
     "execution_count": 154,
     "metadata": {},
     "output_type": "execute_result"
    }
   ],
   "source": [
    "sum(df['wikipedia_true'])"
   ]
  },
  {
   "cell_type": "code",
   "execution_count": 155,
   "metadata": {},
   "outputs": [
    {
     "data": {
      "text/plain": [
       "(array([ 8., 12., 48., 58., 75., 60., 63., 32., 10.,  6.]),\n",
       " array([-3.5491902 , -3.06737247, -2.58555473, -2.103737  , -1.62191926,\n",
       "        -1.14010153, -0.65828379, -0.17646606,  0.30535168,  0.78716941,\n",
       "         1.26898715]),\n",
       " <BarContainer object of 10 artists>)"
      ]
     },
     "execution_count": 155,
     "metadata": {},
     "output_type": "execute_result"
    },
    {
     "data": {
      "image/png": "[encoded data removed]",
      "text/plain": [
       "<Figure size 432x288 with 1 Axes>"
      ]
     },
     "metadata": {
      "needs_background": "light"
     },
     "output_type": "display_data"
    }
   ],
   "source": [
    "plt.hist(df[df['wikipedia_true']]['target'])"
   ]
  },
  {
   "cell_type": "markdown",
   "metadata": {},
   "source": [
    "### EXTRACTING ALL PARAGRAPHS FROM WIKIPEDIA"
   ]
  },
  {
   "cell_type": "code",
   "execution_count": 181,
   "metadata": {},
   "outputs": [],
   "source": [
    "import urllib\n",
    "from bs4 import BeautifulSoup\n",
    "import re\n",
    "import tqdm"
   ]
  },
  {
   "cell_type": "code",
   "execution_count": 188,
   "metadata": {},
   "outputs": [
    {
     "name": "stderr",
     "output_type": "stream",
     "text": [
      "100%|██████████| 372/372 [02:11<00:00,  2.83it/s]\n"
     ]
    }
   ],
   "source": [
    "full_data = {}\n",
    "num_rows = df[df['wikipedia_true']].shape[0]\n",
    "\n",
    "for ind, row in tqdm.tqdm(df[df['wikipedia_true']].iterrows(), total=num_rows):\n",
    "    elem={}\n",
    "    try:\n",
    "        url = row['url_legal']\n",
    "        req = urllib.request.Request(url, headers={'User-Agent': 'Mozilla/5.0'})\n",
    "        page = urllib.request.urlopen(req).read()\n",
    "    \n",
    "    except:\n",
    "        url = row['url_legal']\n",
    "        url = urllib.parse.urlsplit(url)\n",
    "        url = list(url)\n",
    "        url = [urllib.parse.quote(x) for x in url]\n",
    "        url = urllib.parse.urlunsplit(url)\n",
    "        req = urllib.request.Request(url, headers={'User-Agent': 'Mozilla/5.0'})\n",
    "        page = urllib.request.urlopen(req).read()\n",
    "    \n",
    "    soup = BeautifulSoup(page, 'html.parser')\n",
    "    para_ls = soup.find_all('p')\n",
    "    \n",
    "    full_text=''\n",
    "    html_source = []\n",
    "    \n",
    "    for para in para_ls:\n",
    "        text = para.get_text()\n",
    "        full_text += re.sub(r'\\[.*?\\]+', '', text)\n",
    "        html_source.append(str(para))\n",
    "    \n",
    "    elem['full_text'] = full_text\n",
    "    elem['html_source'] = html_source\n",
    "    full_data[row['id']] = elem\n",
    "    \n",
    "    "
   ]
  },
  {
   "cell_type": "markdown",
   "metadata": {},
   "source": [
    "### DATA DUMP"
   ]
  },
  {
   "cell_type": "code",
   "execution_count": 191,
   "metadata": {},
   "outputs": [],
   "source": [
    "import pickle\n",
    "\n",
    "with open('scraped_data/wiki_data.pkl', 'wb') as file:\n",
    "    pickle.dump(full_data, file)"
   ]
  },
  {
   "cell_type": "markdown",
   "metadata": {},
   "source": [
    "### EXAMPLE OUT "
   ]
  },
  {
   "cell_type": "code",
   "execution_count": 193,
   "metadata": {},
   "outputs": [
    {
     "data": {
      "text/plain": [
       "dict_keys(['07de53e3c', 'a26e55bea', '5127fb10f', '0d3a8f33b', '7073d1ef3', 'e83e2cc69', 'e4d810c98', '688e3c808', '6ee4f1df3', 'bba96ae90', '6849b506d', '9ebae047b', '2b2fdfc8c', '95e0a7b8d', '14365d003', '92a8d63d2', 'b12cb6e0d', '49cae2321', 'bc748d8e3', '1e497b6bc', '201eff52d', '8c3532d5e', 'a512494fc', '62526c010', 'd74e2a8a3', '797c77844', '069d0da0f', '674bd8368', 'fed2fbd39', 'c524ddc05', '92749fef5', '09fe55c1c', '1eb28e98e', 'ac50d303b', '50c339373', 'fd23df088', '137af2682', '954b463dc', 'c228478ac', 'e83d8c94b', 'ea67143e5', '68030b769', 'cf3f0844b', 'f8c8e64bb', '8f11d4954', '9fefb4259', '6e39df98c', 'cb472863a', '875601dcb', '24e16582a', '0ee9ed7d1', 'e88783670', '5e1c3fc3c', '4afe4aad8', '7f8863c77', '0263a173f', '32fc19585', '9191df3d4', 'f43a27b6d', '701310673', 'f1a527e3b', 'dca4328c4', 'b9340b6e4', 'b972ec989', '25427adb0', '51c8c5c23', 'f8c88833f', 'a15ef0c1c', '00589d631', '522b40c9f', '1b763f5eb', '0cd2488aa', '99361e803', '0b252057e', '62e7568a4', 'b5ffa97d5', 'afc8ff464', 'dc9fc8155', 'c56b17080', '0d456589c', 'f88faca70', 'c434b7308', '03fccfcee', '50dc68f2f', '70f07093e', '7c732b8bb', 'fbcb3dbac', 'b52f3696a', '7a5ff6589', '043049ae7', 'c85c04767', 'dbfa3780f', 'a01ff5dc0', '23e34b043', 'b5164ad5e', '954d11b73', 'e2050ac7a', '67c4ede2f', 'a8a4d23c3', '0c66f669a', '04245deb8', '273baf218', '906fdc3fb', 'ecfffa27f', '2ec50cadf', 'f378386f4', '77f73d19f', 'dbef2d020', '0377a5ba9', '7a259cdf4', '8c3bba2b2', 'ac715fbdd', '5bb09dede', '438d0393b', '05c2f2fb0', '204f4dec4', 'd8a77aa56', 'b54f796ab', '7f1427de9', '0febeb424', '141aae66a', '645d438fb', '62834f569', 'fff594b50', 'c481b3218', '98b62b4f5', '06e556039', 'edba35680', '146d29c6b', '38d1fb000', 'ca85ccd97', 'd24612311', '0fe7e91a4', '86e14510a', '15fc88a5f', '159a7ab6c', 'cd17cf7c7', '8f721c292', '19bfac449', '3fbefb41a', '1eb302c9c', '5d8da7a16', 'a3f10d9df', '6c58966f4', '9fb92d9b4', '933e78b0c', '9d2d55759', '8057d0e72', 'bf118dacf', '93882c9cf', '5d139e7ab', '456ee9f81', '8d55ccfa3', '1df3f8354', 'e50f1c437', '7a0641567', '29cd28197', 'c85b48fe7', '25418ac78', 'ebac871b7', 'bf3ea5462', '7ba209d4b', '3034df752', '5b63df3ed', '190892047', '5adc8037f', '9a1ff68f0', '66c40304c', 'feb6c61dd', 'e21a8d1fb', '6ab432eb0', '7bcdf0b70', 'f97204802', '9a3b4c21f', '14112c6ee', '94a7d89ea', '6664a7bcc', 'f18969199', '7891283c8', '6d7a84402', '84fba32e2', 'ae2a39de9', 'f14d4ff94', '40923b7c1', 'ec07a54cf', 'f51462541', 'c6c5c7b1d', '6ef035530', '6f8affb27', '27221e5a2', '329cd9805', '0301013cf', '947e2b67c', '8cbfb01cf', 'dee9eca74', '38aa1ead8', '5b2fe7764', '9bc557816', 'a9e5ef5e5', 'a1531d627', '861539d4c', '2a56edd5a', 'c9eea4fc6', '0eb66e27e', '92d5b6fcc', '959951b2b', '8a2b83b06', '067b97b3e', '5724967c7', '1749d6ad0', '663a28944', 'd54fc5196', '99b938c1b', '188449e7e', 'e24391c0c', '90ba26317', '7eacd1edc', 'bc1fb901e', '4b9e40924', '29c7b573f', 'f7c205371', 'fcc566f86', 'b7ff3f935', '475a53f12', '46577b58d', 'd7064ad71', '916faaa6b', 'acb53f607', 'f9fb02afe', '1ec0dccc1', 'b949b1ef7', '5f1e73614', '8fa893ad4', 'a4fa3021c', 'df86b1ee8', '26395cae9', '25e6b2031', '3a4b56999', '82f92f8a5', 'a9397ddc1', 'b1182ff9a', '7099e038d', 'ea39d6014', '33a5087e7', 'a20087e7c', '663afa987', 'd2f71c57b', '7cc35371e', '26fd0c675', '073875f13', '0d90e92a3', 'ab24f949c', 'f805c380d', '39ddf1d39', 'c6ac6a81e', '95c133a73', '3bd492e5f', 'e427c1a62', '6c21d9b1e', 'fe6620086', '2491eebf3', '31aba067d', '8a23a4ba3', 'fb2d4c9d6', '88d52f8e2', '33511af2b', '10426d8a6', '69c52df11', 'ec437fd25', '195bb7384', '7a1723dd0', '6c04954f0', 'a4758360d', '74dcefd0b', 'bac396931', '0b2b28516', '2d91125e2', '5c22a3c42', 'd1e534d7e', 'e6fd2bc8a', 'e7dc3df1d', '4fe36299f', '7dadc99f7', '8c42df10f', '11c3536a9', '067254eba', '8ad831af1', '75a659e45', '60305c619', '8aa8eb87a', '80a6e054b', 'ecec71bf5', '169427af9', '190b37c5d', '0542ab29a', '9147713d7', 'd5fb5c973', '90a777ef2', 'd42622eb6', '8c9a2b4ee', 'be4393b13', 'f1e1e48c9', '695bb0ad0', '848f1d906', '01734f6f6', '0208ac8d4', '33030f528', '886fb8a49', 'a9829cf3d', 'dfefb0086', '3f2a8972d', 'a23df5190', 'eaba56724', '791a3018f', 'e5ed9fe10', 'b6a8c1b6d', '03b1a6ff7', 'ee2fcc78b', 'a666c1db9', 'e36cf4569', '124de178b', '24e00a515', 'c89fe1521', '0b405c725', 'b3f2457aa', 'cd5279677', '38035d30f', '09f2bfe05', '32bbd34c9', 'ba96ff079', 'd8f9566b2', '84916bfcb', 'e33c8a8ce', 'e7dca6a96', 'b81464e80', '11bc4e9b9', '57ad297c5', '5ee85b861', '4db658993', '46de95092', '03b761fd9', 'c9af1974b', '912344be5', 'fe37691ed', '099389445', '6a7e5f932', 'b2f57788e', 'eb7ccf8a3', 'dc8bb7a8c', '30a6fa2ca', '571901e17', '253d55031', '6060b06be', '49dc9c57f', '72e6d3add', '701f51d86', '944aa5331', '475802be3', '9611b9cfb', '2985f4021', 'a895fc4a7', '4d403fd57', '14972af78', '3ba0b1f96', '24288b9a5', '1686d6ea3', '2b3f1f54e', '4f53dd071', 'f79dfc781', 'f482c02a0', '7382b7a7a', 'dc68539f2'])"
      ]
     },
     "execution_count": 193,
     "metadata": {},
     "output_type": "execute_result"
    }
   ],
   "source": [
    "full_data.keys()"
   ]
  },
  {
   "cell_type": "code",
   "execution_count": 195,
   "metadata": {},
   "outputs": [
    {
     "data": {
      "text/plain": [
       "'Civil law is a legal system originating in mainland Europe and adopted in much of the world. The civil law system is intellectualized within the framework of Roman law, and with core principles codified into a referable system, which serves as the primary source of law. The civil law system is often contrasted with the common law system, which originated in medieval England, whose intellectual framework historically came from uncodified judge-made case law, and gives precedential authority to prior court decisions.\\nHistorically, a civil law is the group of legal ideas and systems ultimately derived from the Corpus Juris Civilis, but heavily overlaid by Napoleonic, Germanic, canonical, feudal, and local practices, as well as doctrinal strains such as natural law, codification, and legal positivism.\\nConceptually, civil law proceeds from abstractions, formulates general principles, and distinguishes substantive rules from procedural rules. It holds case law secondary and subordinate to statutory law. Civil law is often paired with the inquisitorial system, but the terms are not synonymous.\\nThere are key differences between a statute and a code. The most pronounced features of civil systems are their legal codes, with concise and broadly applicable texts that typically avoid factually specific scenarios.  The short articles in a civil law code deal in generalities and stand in contrast with ordinary statutes, which are often very long and very detailed.\\nCivil law is sometimes referred to as neo-Roman law, Romano-Germanic law or Continental law. The expression \"civil law\" is a translation of Latin jus civile, or \"citizens\\' law\", which was the late imperial term for its legal system, as opposed to the laws governing conquered peoples (jus gentium); hence, the Justinian Code\\'s title Corpus Juris Civilis. Civil law practitioners, however, traditionally refer to their system in a broad sense as jus commune. The civil law system is the most widespread system of law in the world, in force in various forms in about 150 countries. It draws heavily from Roman law, arguably the most intricate known legal system before the modern era.\\nIn civil law legal systems where codes exist, the primary source of law is the law code, a systematic collection of interrelated articles, arranged by subject matter in some pre-specified order. Codes explain the principles of law, rights and entitlements, and how basic legal mechanisms work. The purpose of codification is to provide all citizens with manners and written collection of the laws which apply to them and which judges must follow. Law codes are laws enacted by a legislature, even if they are in general much longer than other laws. Rather than a compendium of statutes or catalog of case law, the code sets out general principles as rules of law. Other major legal systems in the world include common law, Islamic law, Halakha, and canon law.\\nUnlike common law systems, civil law jurisdictions deal with case law apart from any precedent value. Civil law courts generally decide cases using codal provisions on a case-by-case basis, without reference to other (or even superior) judicial decisions. In actual practice, an increasing degree of precedent is creeping into civil law jurisprudence, and is generally seen in many nations\\' highest courts. While the typical French-speaking supreme court decision is short, concise and devoid of explanation or justification, in Germanic Europe, the supreme courts can and do tend to write more verbose opinions, supported by legal reasoning. A line of similar case decisions, while not precedent per se, constitute jurisprudence constante. While civil law jurisdictions place little reliance on court decisions, they tend to generate a phenomenal number of reported legal opinions. However, this tends to be uncontrolled, since there is no statutory requirement that any case be reported or published in a law report, except for the councils of state and constitutional courts. Except for the highest courts, all publication of legal opinions are unofficial or commercial.\\nCivil law systems can be divided into:\\nA prominent example of a civil law code is the Napoleonic Code (1804), named after French emperor Napoleon. The Napoleonic code comprises three components:\\nAnother prominent civil code is the German Civil Code (Bürgerliches Gesetzbuch or BGB), which went into effect in the German empire in 1900. The German Civil Code is highly influential, inspiring the civil codes in countries such as Japan, South Korea and Switzerland (1907). It is divided into five parts:\\nCivil law takes as its major inspiration classical Roman law (c. AD 1–250), and in particular Justinian law (6th century AD), and further expanded and developed in the late Middle Ages under the influence of canon law. The Justinian Code\\'s doctrines provided a sophisticated model for contracts, rules of procedure, family law, wills, and a strong monarchical constitutional system. Roman law was received differently in different countries. In some it went into force wholesale by legislative act, i.e., it became positive law, whereas in others it was diffused into society by increasingly influential legal experts and scholars.\\nRoman law continued without interruption in the Byzantine Empire until its final fall in the 15th century. However, given the multiple incursions and occupations by Western European powers in the late medieval period, its laws became widely implemented in the West. It was first received in the Holy Roman Empire partly because it was considered imperial law, and it spread in Europe mainly because its students were the only trained lawyers. It became the basis of Scots law, though partly rivaled by received feudal Norman law. In England, it was taught academically at the universities of Oxford and Cambridge, but underlay only probate and matrimonial law insofar as both were inherited from canon law, and maritime law, adapted from lex mercatoria through the Bordeaux trade.\\nConsequently, neither of the two waves of Roman influence completely dominated in Europe. Roman law was a secondary source that was applied only when local customs and laws were found lacking on a certain subject. However, after a time, even local law came to be interpreted and evaluated primarily on the basis of Roman law, since it was a common European legal tradition of sorts, and thereby in turn influenced the main source of law. Eventually, the work of civilian glossators and commentators led to the development of a common body of law and writing about law, a common legal language, and a common method of teaching and scholarship, all termed the jus commune, or law common to Europe, which consolidated canon law and Roman law, and to some extent, feudal law.\\nAn important common characteristic of civil law, aside from its origins in Roman law, is the comprehensive codification of received Roman law, i.e., its inclusion in civil codes. The earliest codification known is the Code of Hammurabi, written in ancient Babylon during the 18th century BC. However, this, and many of the codes that followed, were mainly lists of civil and criminal wrongs and their punishments. The codification typical of modern civilian systems did not first appear until the Justinian Code.\\nGermanic codes appeared over the 6th and 7th centuries to clearly delineate the law in force for Germanic privileged classes versus their Roman subjects and regulate those laws according to folk-right. Under feudal law, a number of private custumals were compiled, first under the Norman empire (Très ancien coutumier, 1200–1245), then elsewhere, to record the manorial—and later regional—customs, court decisions, and the legal principles underpinning them. Custumals were commissioned by lords who presided as lay judges over manorial courts in order to inform themselves about the court process. The use of custumals from influential towns soon became commonplace over large areas. In keeping with this, certain monarchs consolidated their kingdoms by attempting to compile custumals that would serve as the law of the land for their realms, as when Charles VII of France in 1454 commissioned an official custumal of Crown law. Two prominent examples include the Coutume de Paris (written 1510; revised 1580), which served as the basis for the Napoleonic Code, and the Sachsenspiegel (c. 1220) of the bishoprics of Magdeburg and Halberstadt which was used in northern Germany, Poland, and the Low Countries.\\nThe concept of codification was further developed during the 17th and 18th centuries AD, as an expression of both natural law and the ideas of the Enlightenment. The political ideals of that era was expressed by the concepts of democracy, protection of property and the rule of law. Those ideals required certainty of law, recorded, uniform law. So, the mix of Roman law and customary and local law gave way to law codification. Also, the notion of a nation-state implied recorded law that would be applicable to that state. There was also a reaction to law codification. The proponents of codification regarded it as conducive to certainty, unity and systematic recording of the law; whereas its opponents claimed that codification would result in the ossification of the law.\\nIn the end, despite whatever resistance to codification, the codification of Continental European private laws moved forward. Codifications were completed by Denmark (1687), Sweden (1734), Prussia (1794), France (1804), and Austria (1811). The French codes were imported into areas conquered by Napoleon and later adopted with modifications in Poland (Duchy of Warsaw/Congress Poland; Kodeks cywilny 1806/1825), Louisiana (1807), Canton of Vaud (Switzerland; 1819), the Netherlands (1838), Serbia (1844), Italy and Romania (1865), Portugal (1867) and Spain (1888). Germany (1900), and Switzerland (1912) adopted their own codifications. These codifications were in turn imported into colonies at one time or another by most of these countries. The Swiss version was adopted in Brazil (1916) and Turkey (1926).\\nIn theory, codes conceptualized in the civil law system should go beyond the compilation of discrete statutes, and instead state the law in a coherent, and comprehensive piece of legislation, sometimes introducing major reforms or starting anew. In this regard, civil law codes are more similar to the Restatements of the Law, the Uniform Commercial Code (which drew from European inspirations), and the Model Penal Code in the United States. In the United States, U.S. states began codification with New York\\'s 1850 Field Code (laying down civil procedure rules and inspired by European and Louisiana codes). Other examples include California\\'s codes (1872), and the federal revised statutes (1874) and the current United States Code (1926), which are closer to compilations of statute than to systematic expositions of law akin to civil law codes.\\nFor the legal system of Japan, beginning in the Meiji Era, European legal systems—especially the civil law of Germany and France—were the primary models for emulation. In China, the German Civil Code was introduced in the later years of the Qing dynasty, emulating Japan. In addition, it formed the basis of the law of the Republic of China, which remains in force in Taiwan. Furthermore, Korea, Taiwan, and Manchuria, former Japanese colonies, have been strongly influenced by the Japanese legal system.\\nSome authors consider civil law the foundation for socialist law used in communist countries, which in this view would basically be civil law with the addition of Marxist-Leninist ideals. Even if this is so, civil law was generally the legal system in place before the rise of socialist law, and some Eastern European countries reverted to the pre-socialist civil law following the fall of socialism, while others continued using a socialist legal systems.\\nThe table below contains essential disparities (and in some cases similarities) between the world\\'s four major legal systems.\\nCivil law is primarily contrasted with common law, which is the legal system developed first in England, and later among English-speaking peoples of the world. Despite their differences, the two systems are quite similar from a historical point of view. Both evolved in much the same way, though at different paces. The Roman law underlying civil law developed mainly from customary law that was refined with case law and legislation. Canon law further refined court procedure. Similarly, English law developed from Anglo-Saxon customary law, Danelaw and Norman law, further refined by case law and legislation. The differences are\\nCodification, however, is by no means a defining characteristic of a civil law system. For example, the statutes that govern the civil law systems of Sweden and other Nordic countries and the Roman-Dutch countries are not grouped into larger, expansive codes like those in French and German law.\\nThe term civil law comes from English legal scholarship and is used in English-speaking countries to lump together all legal systems of the jus commune tradition. However, legal comparativists and economists promoting the legal origins theory prefer to subdivide civil law jurisdictions into four distinct groups:\\nHowever, some of these legal systems are often and more correctly said to be of hybrid nature:\\nNapoleonic to Germanistic influence: The Italian civil code of 1942 replaced the original one of 1865, introducing germanistic elements due to the geopolitical alliances of the time. This approach has been imitated by other countries, including Portugal (1966), the Netherlands (1992), Brazil (2002) and Argentina (2014). Most of them have innovations introduced  by the Italian legislation, including the unification of the civil and commercial codes.\\nGermanistic to Napoleonic influence: The Swiss civil code is considered mainly influenced by the German civil code and partly influenced by the French civil code.  The civil code of the Republic of Turkey is a slightly modified version of the Swiss code, adopted in 1926 during Mustafa Kemal Atatürk\\'s presidency as part of the government\\'s progressive reforms and secularization.\\nSome systems of civil law do not fit neatly into this typology, however. Polish law developed as a mixture of French and German civil law in the 19th century. After the reunification of Poland in 1918, five legal systems (French Napoleonic Code from the Duchy of Warsaw, German BGB from Western Poland, Austrian ABGB from Southern Poland, Russian law from Eastern Poland, and Hungarian law from Spisz and Orawa) were merged into one. Similarly, Dutch law, while originally codified in the Napoleonic tradition, has been heavily altered under influence from the Dutch native tradition of Roman-Dutch law (still in effect in its former colonies). Scotland\\'s civil law tradition borrowed heavily from Roman-Dutch law. Swiss law is categorized as Germanistic, but it has been heavily influenced by the Napoleonic tradition, with some indigenous elements added in as well.\\nLouisiana private law is primarily a Napoleonic system. Louisiana is the only U.S. state partially based on French and Spanish codes and ultimately Roman law, as opposed to English common law. In Louisiana, private law was codified into the Louisiana Civil Code. Current Louisiana law has converged considerably with American law, especially in its public law, judicial system, and adoption of the Uniform Commercial Code (except for Article 2) and certain legal devices of American common law. In fact, any innovation, whether private or public, has been decidedly common law in origin. Quebec law, whose private law is also of French civil origin, has developed along the same lines,  adapting in the same way as Louisiana to the public law and judicial system of Canadian common law. By contrast, Quebec private law has innovated mainly from civil sources. To a lesser extent, other states formerly part of the Spanish Empire, such as Texas and California, have also retained aspects of Spanish civil law into their legal system, for example community property. The legal system of Puerto Rico exhibits similarities to that of Louisiana: a civil code whose interpretations rely on both the civil and common law systems. Because Puerto Rico\\'s Civil Code is based on the Spanish Civil Code of 1889, available jurisprudence has tended to rely on common law innovations due to the code\\'s age and in many cases, obsolete nature.\\nSeveral Islamic countries have civil law systems that contain elements of Islamic law. As an example, the Egyptian Civil Code of 1810 that developed in the early 19th century—which remains in force in Egypt is the basis for the civil law in many countries of the Arab world where the civil law is used— is based on the Napoleonic Code, but its primary author Abd El-Razzak El-Sanhuri attempted to integrate principles and features of Islamic law in deference to the unique circumstances of Egyptian society.\\nJapanese Civil Code was considered as a mixture of roughly 60 percent of the German civil code and roughly 30 percent of the French civil code and 8 percent of Japanese customary law and 2 percent of the English law. The code includes the doctrine of ultra vires and a precedent of Hadley v Baxendale from English common law system.\\n'"
      ]
     },
     "execution_count": 195,
     "metadata": {},
     "output_type": "execute_result"
    }
   ],
   "source": [
    "full_data['fd23df088']['full_text']"
   ]
  },
  {
   "cell_type": "code",
   "execution_count": 198,
   "metadata": {},
   "outputs": [
    {
     "data": {
      "text/plain": [
       "array(['Civil law, civilian law, or Roman law is a legal system originating in Europe, intellectualized within the framework of late Roman law, and whose most prevalent feature is that its core principles are codified into a referable system which serves as the primary source of law. This can be contrasted with common law systems whose intellectual framework comes from judge-made decisional law which gives precedential authority to prior court decisions on the principle that it is unfair to treat similar facts differently on different occasions (doctrine of judicial precedent, or stare decisis).\\nHistorically, a civil law is the group of legal ideas and systems ultimately derived from the Code of Justinian, but heavily overlaid by Napoleonic, Germanic, canonical, feudal, and local practices, as well as doctrinal strains such as natural law, codification, and legal positivism.\\nConceptually, civil law proceeds from abstractions, formulates general principles, and distinguishes substantive rules from procedural rules. It holds case law to be secondary and subordinate to statutory law. When discussing civil law, one should keep in mind the conceptual difference between a statute and a codal article.'],\n",
       "      dtype=object)"
      ]
     },
     "execution_count": 198,
     "metadata": {},
     "output_type": "execute_result"
    }
   ],
   "source": [
    "df[df['id']=='fd23df088']['excerpt'].values"
   ]
  }
 ],
 "metadata": {
  "kernelspec": {
   "display_name": "Python 3",
   "language": "python",
   "name": "python3"
  },
  "language_info": {
   "codemirror_mode": {
    "name": "ipython",
    "version": 3
   },
   "file_extension": ".py",
   "mimetype": "text/x-python",
   "name": "python",
   "nbconvert_exporter": "python",
   "pygments_lexer": "ipython3",
   "version": "3.8.3"
  }
 },
 "nbformat": 4,
 "nbformat_minor": 4
}
